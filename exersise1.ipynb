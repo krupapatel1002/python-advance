{
  "nbformat": 4,
  "nbformat_minor": 0,
  "metadata": {
    "colab": {
      "provenance": [],
      "authorship_tag": "ABX9TyPzFNWe1eOKzhKN8kuHF/B9",
      "include_colab_link": true
    },
    "kernelspec": {
      "name": "python3",
      "display_name": "Python 3"
    },
    "language_info": {
      "name": "python"
    }
  },
  "cells": [
    {
      "cell_type": "markdown",
      "metadata": {
        "id": "view-in-github",
        "colab_type": "text"
      },
      "source": [
        "<a href=\"https://colab.research.google.com/github/krupapatel1002/python-advance/blob/main/exersise1.ipynb\" target=\"_parent\"><img src=\"https://colab.research.google.com/assets/colab-badge.svg\" alt=\"Open In Colab\"/></a>"
      ]
    },
    {
      "cell_type": "code",
      "execution_count": null,
      "metadata": {
        "colab": {
          "base_uri": "https://localhost:8080/"
        },
        "id": "vquKAV8ipPnN",
        "outputId": "fa916ec9-a872-43bd-fa9f-798d20eff2f5"
      },
      "outputs": [
        {
          "output_type": "stream",
          "name": "stdout",
          "text": [
            "hello i'm krupa\n"
          ]
        }
      ],
      "source": [
        "print(\"hello i'm krupa\")\n"
      ]
    },
    {
      "cell_type": "code",
      "source": [
        "list1=[1,3,5,7]\n",
        "list2=[2,4,6,8]\n",
        "list3=list1+list2\n",
        "list3.sort()\n",
        "list3\n"
      ],
      "metadata": {
        "id": "Ubi_RMr9pSk5",
        "colab": {
          "base_uri": "https://localhost:8080/"
        },
        "outputId": "5dec02c1-0b87-4e28-d50d-b88533513d69"
      },
      "execution_count": 1,
      "outputs": [
        {
          "output_type": "execute_result",
          "data": {
            "text/plain": [
              "[1, 2, 3, 4, 5, 6, 7, 8]"
            ]
          },
          "metadata": {},
          "execution_count": 1
        }
      ]
    },
    {
      "cell_type": "code",
      "source": [
        "pair=[(1,'one'),(2,'two'),(3,'three')]\n",
        "output=dict(pair)\n",
        "output"
      ],
      "metadata": {
        "id": "dGezQQfS-G_q",
        "colab": {
          "base_uri": "https://localhost:8080/"
        },
        "outputId": "c0af05a8-3555-4c27-e4c0-eba25a34ef02"
      },
      "execution_count": 2,
      "outputs": [
        {
          "output_type": "execute_result",
          "data": {
            "text/plain": [
              "{1: 'one', 2: 'two', 3: 'three'}"
            ]
          },
          "metadata": {},
          "execution_count": 2
        }
      ]
    },
    {
      "cell_type": "code",
      "source": [
        "tuple1=(10,20,30,40,50)\n",
        "listoftuple=list(tuple1)\n",
        "listoftuple[0],listoftuple[4]=listoftuple[4],listoftuple[0]\n",
        "newtuple=tuple(listoftuple)\n",
        "newtuple\n"
      ],
      "metadata": {
        "colab": {
          "base_uri": "https://localhost:8080/"
        },
        "id": "ZyvydYg09nUM",
        "outputId": "0eef835e-da3e-46dc-c36f-de92723cd39a"
      },
      "execution_count": 4,
      "outputs": [
        {
          "output_type": "execute_result",
          "data": {
            "text/plain": [
              "(50, 20, 30, 40, 10)"
            ]
          },
          "metadata": {},
          "execution_count": 4
        }
      ]
    },
    {
      "cell_type": "code",
      "source": [
        "number=[4, 5, 5, 4, 3, 2, 2, 1, 6, 6]\n",
        "newnumber=list(set(number))\n",
        "newnumber\n"
      ],
      "metadata": {
        "colab": {
          "base_uri": "https://localhost:8080/"
        },
        "id": "gfxdAZoP_GuL",
        "outputId": "1f976953-bc9d-47f9-80a4-dab110a429d0"
      },
      "execution_count": 6,
      "outputs": [
        {
          "output_type": "execute_result",
          "data": {
            "text/plain": [
              "[1, 2, 3, 4, 5, 6]"
            ]
          },
          "metadata": {},
          "execution_count": 6
        }
      ]
    },
    {
      "cell_type": "code",
      "source": [
        "set1={1,2,3,4,5}\n",
        "set2={3,4,5,6,7}\n",
        "diffset=set1.difference(set2)\n",
        "diffset"
      ],
      "metadata": {
        "colab": {
          "base_uri": "https://localhost:8080/"
        },
        "id": "laXECcPA_G2o",
        "outputId": "b83ac20c-4403-464e-924d-d391ba9abb24"
      },
      "execution_count": 7,
      "outputs": [
        {
          "output_type": "execute_result",
          "data": {
            "text/plain": [
              "{1, 2}"
            ]
          },
          "metadata": {},
          "execution_count": 7
        }
      ]
    },
    {
      "cell_type": "code",
      "source": [
        "from typing import Counter\n",
        "text=\"banana\"\n",
        "fre=Counter(text)\n",
        "fre"
      ],
      "metadata": {
        "colab": {
          "base_uri": "https://localhost:8080/"
        },
        "id": "vcDxzEhS_HAM",
        "outputId": "6516886f-6120-44b7-bc8d-96132d20156f"
      },
      "execution_count": 8,
      "outputs": [
        {
          "output_type": "execute_result",
          "data": {
            "text/plain": [
              "Counter({'b': 1, 'a': 3, 'n': 2})"
            ]
          },
          "metadata": {},
          "execution_count": 8
        }
      ]
    },
    {
      "cell_type": "code",
      "source": [],
      "metadata": {
        "id": "07TH05wQ_HIM"
      },
      "execution_count": null,
      "outputs": []
    },
    {
      "cell_type": "code",
      "source": [],
      "metadata": {
        "id": "xPNHhTEV9nzC"
      },
      "execution_count": null,
      "outputs": []
    },
    {
      "cell_type": "code",
      "source": [],
      "metadata": {
        "id": "56PcuqbO9n14"
      },
      "execution_count": null,
      "outputs": []
    },
    {
      "cell_type": "code",
      "source": [],
      "metadata": {
        "id": "9uyDarPT9n5c"
      },
      "execution_count": null,
      "outputs": []
    }
  ]
}